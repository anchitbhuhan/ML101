{
 "cells": [
  {
   "cell_type": "code",
   "execution_count": 9,
   "metadata": {},
   "outputs": [
    {
     "name": "stdout",
     "output_type": "stream",
     "text": [
      "Intercept: \n",
      " 32.7989732842775\n",
      "Coefficients: \n",
      " [ 0.00000000e+00  4.09032720e+01 -4.35298980e-01  9.60038760e+00\n",
      "  1.62131385e+00 -2.12936404e-02]\n",
      "Predicted total UPDRS: \n",
      " [66.73463002]\n",
      "                            OLS Regression Results                            \n",
      "==============================================================================\n",
      "Dep. Variable:            total_UPDRS   R-squared:                       0.031\n",
      "Model:                            OLS   Adj. R-squared:                  0.030\n",
      "Method:                 Least Squares   F-statistic:                     93.02\n",
      "Date:                Thu, 08 Aug 2019   Prob (F-statistic):           1.69e-40\n",
      "Time:                        18:33:56   Log-Likelihood:                -22169.\n",
      "No. Observations:                5875   AIC:                         4.434e+04\n",
      "Df Residuals:                    5872   BIC:                         4.436e+04\n",
      "Df Model:                           2                                         \n",
      "Covariance Type:            nonrobust                                         \n",
      "==============================================================================\n",
      "                 coef    std err          t      P>|t|      [0.025      0.975]\n",
      "------------------------------------------------------------------------------\n",
      "const         28.8081      1.336     21.566      0.000      26.189      31.427\n",
      "RPDE           9.3760      1.810      5.180      0.000       5.828      12.924\n",
      "HNR           -0.2588      0.043     -6.076      0.000      -0.342      -0.175\n",
      "==============================================================================\n",
      "Omnibus:                      183.443   Durbin-Watson:                   0.063\n",
      "Prob(Omnibus):                  0.000   Jarque-Bera (JB):              171.482\n",
      "Skew:                           0.371   Prob(JB):                     5.80e-38\n",
      "Kurtosis:                       2.614   Cond. No.                         269.\n",
      "==============================================================================\n",
      "\n",
      "Warnings:\n",
      "[1] Standard Errors assume that the covariance matrix of the errors is correctly specified.\n"
     ]
    }
   ],
   "source": [
    "# First Model\n",
    "import numpy as np\n",
    "import matplotlib.pyplot as plt\n",
    "import pandas as pd\n",
    "from sklearn.model_selection import train_test_split\n",
    "from mpl_toolkits import mplot3d\n",
    "from sklearn import linear_model\n",
    "from sklearn.preprocessing import PolynomialFeatures\n",
    "\n",
    "\n",
    "data = pd.read_csv(\"parkinsons_updrs.data.csv\")\n",
    "X1 = data['RPDE']\n",
    "X2 = data['HNR']\n",
    "\n",
    "X1 = np.array((X1 - X1.min())-(X1.max() - X1.min()))\n",
    "X2 = np.array((X2 - X2.min())-(X2.max() - X2.min()))\n",
    "\n",
    "data['RPDE'] = X1\n",
    "data['HNR'] = X2\n",
    "\n",
    "Xx = data[['RPDE','HNR']]\n",
    "Yy = data['total_UPDRS']\n",
    "\n",
    "poly = PolynomialFeatures(degree=2)\n",
    "X_ = poly.fit_transform(Xx) \n",
    "\n",
    "regrr = linear_model.LinearRegression()\n",
    "regrr.fit(X_, Yy)\n",
    "\n",
    "print('Intercept: \\n', regrr.intercept_)\n",
    "print('Coefficients: \\n', regrr.coef_)\n",
    "\n",
    "\n",
    "RPDE = 0.7\n",
    "HNR = 0.88\n",
    "print ('Predicted total UPDRS: \\n', regrr.predict(poly.fit_transform([[RPDE,HNR]])))\n",
    "\n",
    "\n",
    "Xx = sm.add_constant(Xx)\n",
    " \n",
    "model = sm.OLS(Yy, Xx).fit()\n",
    "predictions = model.predict(Xx) \n",
    " \n",
    "print_model = model.summary()\n",
    "print(print_model)"
   ]
  },
  {
   "cell_type": "code",
   "execution_count": null,
   "metadata": {},
   "outputs": [],
   "source": []
  },
  {
   "cell_type": "code",
   "execution_count": null,
   "metadata": {},
   "outputs": [],
   "source": []
  },
  {
   "cell_type": "code",
   "execution_count": 7,
   "metadata": {},
   "outputs": [
    {
     "name": "stdout",
     "output_type": "stream",
     "text": [
      "Intercept: \n",
      " 10.925946125393601\n",
      "Coefficients: \n",
      " [ 0.00000000e+00 -1.14781339e+01 -7.75458018e-01 -1.85602572e+01\n",
      "  1.27461202e-01 -1.55571653e-02]\n",
      "Predicted motor UPDRS: \n",
      " [-6.81920806]\n",
      "                            OLS Regression Results                            \n",
      "==============================================================================\n",
      "Dep. Variable:            motor_UPDRS   R-squared:                       0.026\n",
      "Model:                            OLS   Adj. R-squared:                  0.025\n",
      "Method:                 Least Squares   F-statistic:                     77.67\n",
      "Date:                Thu, 08 Aug 2019   Prob (F-statistic):           5.08e-34\n",
      "Time:                        18:33:02   Log-Likelihood:                -20570.\n",
      "No. Observations:                5875   AIC:                         4.115e+04\n",
      "Df Residuals:                    5872   BIC:                         4.117e+04\n",
      "Df Model:                           2                                         \n",
      "Covariance Type:            nonrobust                                         \n",
      "==============================================================================\n",
      "                 coef    std err          t      P>|t|      [0.025      0.975]\n",
      "------------------------------------------------------------------------------\n",
      "const         18.8940      1.017     18.570      0.000      16.899      20.889\n",
      "RPDE           3.5745      1.379      2.593      0.010       0.872       6.277\n",
      "HNR           -0.2420      0.032     -7.460      0.000      -0.306      -0.178\n",
      "==============================================================================\n",
      "Omnibus:                      956.374   Durbin-Watson:                   0.063\n",
      "Prob(Omnibus):                  0.000   Jarque-Bera (JB):              232.860\n",
      "Skew:                           0.145   Prob(JB):                     2.72e-51\n",
      "Kurtosis:                       2.068   Cond. No.                         269.\n",
      "==============================================================================\n",
      "\n",
      "Warnings:\n",
      "[1] Standard Errors assume that the covariance matrix of the errors is correctly specified.\n"
     ]
    }
   ],
   "source": [
    "# Second Model\n",
    "import numpy as np\n",
    "import matplotlib.pyplot as plt\n",
    "import pandas as pd\n",
    "from sklearn.model_selection import train_test_split\n",
    "from mpl_toolkits import mplot3d\n",
    "from sklearn import linear_model\n",
    "from sklearn.preprocessing import PolynomialFeatures\n",
    "\n",
    "\n",
    "data = pd.read_csv(\"parkinsons_updrs.data.csv\")\n",
    "X1 = data['RPDE']\n",
    "X2 = data['HNR']\n",
    "\n",
    "X1 = np.array((X1 - X1.min())-(X1.max() - X1.min()))\n",
    "X2 = np.array((X2 - X2.min())-(X2.max() - X2.min()))\n",
    "\n",
    "data['RPDE'] = X1\n",
    "data['HNR'] = X2\n",
    "\n",
    "Xx = data[['RPDE','HNR']]\n",
    "Yy = data['motor_UPDRS']\n",
    "\n",
    "poly = PolynomialFeatures(degree=2)\n",
    "X_ = poly.fit_transform(Xx) \n",
    "\n",
    "regrr = linear_model.LinearRegression()\n",
    "regrr.fit(X_, Yy)\n",
    "\n",
    "print('Intercept: \\n', regrr.intercept_)\n",
    "print('Coefficients: \\n', regrr.coef_)\n",
    "\n",
    "\n",
    "RPDE = 0.7\n",
    "HNR = 0.88\n",
    "print ('Predicted motor UPDRS: \\n', regrr.predict(poly.fit_transform([[RPDE,HNR]])))\n",
    "\n",
    "\n",
    "Xx = sm.add_constant(Xx)\n",
    " \n",
    "model = sm.OLS(Yy, Xx).fit()\n",
    "predictions = model.predict(Xx) \n",
    " \n",
    "print_model = model.summary()\n",
    "print(print_model)"
   ]
  },
  {
   "cell_type": "code",
   "execution_count": null,
   "metadata": {},
   "outputs": [],
   "source": []
  },
  {
   "cell_type": "code",
   "execution_count": null,
   "metadata": {},
   "outputs": [],
   "source": []
  },
  {
   "cell_type": "code",
   "execution_count": null,
   "metadata": {},
   "outputs": [],
   "source": []
  },
  {
   "cell_type": "code",
   "execution_count": null,
   "metadata": {},
   "outputs": [],
   "source": []
  },
  {
   "cell_type": "code",
   "execution_count": null,
   "metadata": {},
   "outputs": [],
   "source": []
  },
  {
   "cell_type": "code",
   "execution_count": null,
   "metadata": {},
   "outputs": [],
   "source": []
  },
  {
   "cell_type": "code",
   "execution_count": null,
   "metadata": {},
   "outputs": [],
   "source": []
  },
  {
   "cell_type": "code",
   "execution_count": null,
   "metadata": {},
   "outputs": [],
   "source": []
  },
  {
   "cell_type": "code",
   "execution_count": 17,
   "metadata": {},
   "outputs": [
    {
     "name": "stdout",
     "output_type": "stream",
     "text": [
      "0      -11.312\n",
      "1      -11.064\n",
      "2      -10.816\n",
      "3      -10.606\n",
      "4      -10.324\n",
      "5      -10.076\n",
      "6       -9.829\n",
      "7       -9.583\n",
      "8       -9.334\n",
      "9       -9.087\n",
      "10      -8.841\n",
      "11      -8.594\n",
      "12      -8.202\n",
      "13      -7.735\n",
      "14      -7.268\n",
      "15      -6.801\n",
      "16      -6.333\n",
      "17      -5.868\n",
      "18      -5.402\n",
      "19      -4.865\n",
      "20      -4.468\n",
      "21      -4.002\n",
      "22      -3.535\n",
      "23      -2.534\n",
      "24     -11.312\n",
      "25     -11.064\n",
      "26     -10.816\n",
      "27     -10.606\n",
      "28     -10.324\n",
      "29     -10.076\n",
      "         ...  \n",
      "5845   -17.026\n",
      "5846   -17.523\n",
      "5847   -18.016\n",
      "5848   -18.504\n",
      "5849   -18.998\n",
      "5850   -19.786\n",
      "5851   -19.485\n",
      "5852   -18.884\n",
      "5853   -18.433\n",
      "5854   -17.978\n",
      "5855   -17.534\n",
      "5856   -17.074\n",
      "5857   -16.631\n",
      "5858   -16.172\n",
      "5859   -15.720\n",
      "5860   -15.269\n",
      "5861   -14.364\n",
      "5862   -13.913\n",
      "5863   -13.550\n",
      "5864   -14.059\n",
      "5865   -14.482\n",
      "5866   -15.110\n",
      "5867   -15.532\n",
      "5868   -16.029\n",
      "5869   -16.603\n",
      "5870   -17.026\n",
      "5871   -17.523\n",
      "5872   -18.016\n",
      "5873   -18.504\n",
      "5874   -18.998\n",
      "Name: motor_UPDRS, Length: 5875, dtype: float64\n"
     ]
    }
   ],
   "source": []
  },
  {
   "cell_type": "code",
   "execution_count": null,
   "metadata": {},
   "outputs": [],
   "source": []
  },
  {
   "cell_type": "code",
   "execution_count": null,
   "metadata": {},
   "outputs": [],
   "source": []
  },
  {
   "cell_type": "code",
   "execution_count": 18,
   "metadata": {},
   "outputs": [
    {
     "name": "stdout",
     "output_type": "stream",
     "text": [
      "Intercept: \n",
      " -28.58505387460584\n",
      "Coefficients: \n",
      " [ 0.00000000e+00 -1.14781339e+01 -7.75458018e-01 -1.85602572e+01\n",
      "  1.27461202e-01 -1.55571653e-02]\n"
     ]
    },
    {
     "ename": "ValueError",
     "evalue": "shapes (1,2) and (6,) not aligned: 2 (dim 1) != 6 (dim 0)",
     "output_type": "error",
     "traceback": [
      "\u001b[1;31m---------------------------------------------------------------------------\u001b[0m",
      "\u001b[1;31mValueError\u001b[0m                                Traceback (most recent call last)",
      "\u001b[1;32m<ipython-input-18-8d0ebbb9efc4>\u001b[0m in \u001b[0;36m<module>\u001b[1;34m\u001b[0m\n\u001b[0;32m      9\u001b[0m \u001b[0mRPDE\u001b[0m \u001b[1;33m=\u001b[0m \u001b[1;36m0.7\u001b[0m\u001b[1;33m\u001b[0m\u001b[1;33m\u001b[0m\u001b[0m\n\u001b[0;32m     10\u001b[0m \u001b[0mHNR\u001b[0m \u001b[1;33m=\u001b[0m \u001b[1;36m0.88\u001b[0m\u001b[1;33m\u001b[0m\u001b[1;33m\u001b[0m\u001b[0m\n\u001b[1;32m---> 11\u001b[1;33m \u001b[0mprint\u001b[0m \u001b[1;33m(\u001b[0m\u001b[1;34m'Predicted motor UPDRS: \\n'\u001b[0m\u001b[1;33m,\u001b[0m \u001b[0mregrr\u001b[0m\u001b[1;33m.\u001b[0m\u001b[0mpredict\u001b[0m\u001b[1;33m(\u001b[0m\u001b[1;33m[\u001b[0m\u001b[1;33m[\u001b[0m\u001b[0mRPDE\u001b[0m \u001b[1;33m,\u001b[0m\u001b[0mHNR\u001b[0m\u001b[1;33m]\u001b[0m\u001b[1;33m]\u001b[0m\u001b[1;33m)\u001b[0m\u001b[1;33m)\u001b[0m\u001b[1;33m\u001b[0m\u001b[1;33m\u001b[0m\u001b[0m\n\u001b[0m\u001b[0;32m     12\u001b[0m \u001b[1;33m\u001b[0m\u001b[0m\n\u001b[0;32m     13\u001b[0m \u001b[1;33m\u001b[0m\u001b[0m\n",
      "\u001b[1;32mC:\\anaconda3\\lib\\site-packages\\sklearn\\linear_model\\base.py\u001b[0m in \u001b[0;36mpredict\u001b[1;34m(self, X)\u001b[0m\n\u001b[0;32m    211\u001b[0m             \u001b[0mReturns\u001b[0m \u001b[0mpredicted\u001b[0m \u001b[0mvalues\u001b[0m\u001b[1;33m.\u001b[0m\u001b[1;33m\u001b[0m\u001b[1;33m\u001b[0m\u001b[0m\n\u001b[0;32m    212\u001b[0m         \"\"\"\n\u001b[1;32m--> 213\u001b[1;33m         \u001b[1;32mreturn\u001b[0m \u001b[0mself\u001b[0m\u001b[1;33m.\u001b[0m\u001b[0m_decision_function\u001b[0m\u001b[1;33m(\u001b[0m\u001b[0mX\u001b[0m\u001b[1;33m)\u001b[0m\u001b[1;33m\u001b[0m\u001b[1;33m\u001b[0m\u001b[0m\n\u001b[0m\u001b[0;32m    214\u001b[0m \u001b[1;33m\u001b[0m\u001b[0m\n\u001b[0;32m    215\u001b[0m     \u001b[0m_preprocess_data\u001b[0m \u001b[1;33m=\u001b[0m \u001b[0mstaticmethod\u001b[0m\u001b[1;33m(\u001b[0m\u001b[0m_preprocess_data\u001b[0m\u001b[1;33m)\u001b[0m\u001b[1;33m\u001b[0m\u001b[1;33m\u001b[0m\u001b[0m\n",
      "\u001b[1;32mC:\\anaconda3\\lib\\site-packages\\sklearn\\linear_model\\base.py\u001b[0m in \u001b[0;36m_decision_function\u001b[1;34m(self, X)\u001b[0m\n\u001b[0;32m    196\u001b[0m         \u001b[0mX\u001b[0m \u001b[1;33m=\u001b[0m \u001b[0mcheck_array\u001b[0m\u001b[1;33m(\u001b[0m\u001b[0mX\u001b[0m\u001b[1;33m,\u001b[0m \u001b[0maccept_sparse\u001b[0m\u001b[1;33m=\u001b[0m\u001b[1;33m[\u001b[0m\u001b[1;34m'csr'\u001b[0m\u001b[1;33m,\u001b[0m \u001b[1;34m'csc'\u001b[0m\u001b[1;33m,\u001b[0m \u001b[1;34m'coo'\u001b[0m\u001b[1;33m]\u001b[0m\u001b[1;33m)\u001b[0m\u001b[1;33m\u001b[0m\u001b[1;33m\u001b[0m\u001b[0m\n\u001b[0;32m    197\u001b[0m         return safe_sparse_dot(X, self.coef_.T,\n\u001b[1;32m--> 198\u001b[1;33m                                dense_output=True) + self.intercept_\n\u001b[0m\u001b[0;32m    199\u001b[0m \u001b[1;33m\u001b[0m\u001b[0m\n\u001b[0;32m    200\u001b[0m     \u001b[1;32mdef\u001b[0m \u001b[0mpredict\u001b[0m\u001b[1;33m(\u001b[0m\u001b[0mself\u001b[0m\u001b[1;33m,\u001b[0m \u001b[0mX\u001b[0m\u001b[1;33m)\u001b[0m\u001b[1;33m:\u001b[0m\u001b[1;33m\u001b[0m\u001b[1;33m\u001b[0m\u001b[0m\n",
      "\u001b[1;32mC:\\anaconda3\\lib\\site-packages\\sklearn\\utils\\extmath.py\u001b[0m in \u001b[0;36msafe_sparse_dot\u001b[1;34m(a, b, dense_output)\u001b[0m\n\u001b[0;32m    171\u001b[0m         \u001b[1;32mreturn\u001b[0m \u001b[0mret\u001b[0m\u001b[1;33m\u001b[0m\u001b[1;33m\u001b[0m\u001b[0m\n\u001b[0;32m    172\u001b[0m     \u001b[1;32melse\u001b[0m\u001b[1;33m:\u001b[0m\u001b[1;33m\u001b[0m\u001b[1;33m\u001b[0m\u001b[0m\n\u001b[1;32m--> 173\u001b[1;33m         \u001b[1;32mreturn\u001b[0m \u001b[0mnp\u001b[0m\u001b[1;33m.\u001b[0m\u001b[0mdot\u001b[0m\u001b[1;33m(\u001b[0m\u001b[0ma\u001b[0m\u001b[1;33m,\u001b[0m \u001b[0mb\u001b[0m\u001b[1;33m)\u001b[0m\u001b[1;33m\u001b[0m\u001b[1;33m\u001b[0m\u001b[0m\n\u001b[0m\u001b[0;32m    174\u001b[0m \u001b[1;33m\u001b[0m\u001b[0m\n\u001b[0;32m    175\u001b[0m \u001b[1;33m\u001b[0m\u001b[0m\n",
      "\u001b[1;31mValueError\u001b[0m: shapes (1,2) and (6,) not aligned: 2 (dim 1) != 6 (dim 0)"
     ]
    }
   ],
   "source": []
  },
  {
   "cell_type": "code",
   "execution_count": null,
   "metadata": {},
   "outputs": [],
   "source": []
  },
  {
   "cell_type": "code",
   "execution_count": null,
   "metadata": {},
   "outputs": [],
   "source": []
  },
  {
   "cell_type": "code",
   "execution_count": null,
   "metadata": {},
   "outputs": [],
   "source": []
  },
  {
   "cell_type": "code",
   "execution_count": null,
   "metadata": {},
   "outputs": [],
   "source": []
  },
  {
   "cell_type": "code",
   "execution_count": null,
   "metadata": {},
   "outputs": [],
   "source": []
  },
  {
   "cell_type": "code",
   "execution_count": null,
   "metadata": {},
   "outputs": [],
   "source": []
  },
  {
   "cell_type": "code",
   "execution_count": null,
   "metadata": {},
   "outputs": [],
   "source": []
  },
  {
   "cell_type": "code",
   "execution_count": null,
   "metadata": {},
   "outputs": [],
   "source": []
  },
  {
   "cell_type": "code",
   "execution_count": null,
   "metadata": {},
   "outputs": [],
   "source": []
  },
  {
   "cell_type": "code",
   "execution_count": null,
   "metadata": {},
   "outputs": [],
   "source": []
  },
  {
   "cell_type": "code",
   "execution_count": null,
   "metadata": {},
   "outputs": [],
   "source": []
  },
  {
   "cell_type": "code",
   "execution_count": null,
   "metadata": {},
   "outputs": [],
   "source": []
  },
  {
   "cell_type": "code",
   "execution_count": null,
   "metadata": {},
   "outputs": [],
   "source": []
  },
  {
   "cell_type": "code",
   "execution_count": null,
   "metadata": {},
   "outputs": [],
   "source": []
  },
  {
   "cell_type": "code",
   "execution_count": null,
   "metadata": {},
   "outputs": [],
   "source": []
  }
 ],
 "metadata": {
  "kernelspec": {
   "display_name": "Python 3",
   "language": "python",
   "name": "python3"
  },
  "language_info": {
   "codemirror_mode": {
    "name": "ipython",
    "version": 3
   },
   "file_extension": ".py",
   "mimetype": "text/x-python",
   "name": "python",
   "nbconvert_exporter": "python",
   "pygments_lexer": "ipython3",
   "version": "3.7.1"
  }
 },
 "nbformat": 4,
 "nbformat_minor": 2
}
